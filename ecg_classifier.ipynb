{
  "nbformat": 4,
  "nbformat_minor": 0,
  "metadata": {
    "colab": {
      "provenance": [],
      "gpuType": "T4"
    },
    "kernelspec": {
      "name": "python3",
      "display_name": "Python 3"
    },
    "language_info": {
      "name": "python"
    },
    "accelerator": "GPU"
  },
  "cells": [
    {
      "cell_type": "code",
      "execution_count": null,
      "metadata": {
        "colab": {
          "base_uri": "https://localhost:8080/"
        },
        "id": "NqhRRhWKv8Y_",
        "outputId": "d8739a60-6ffe-4e8a-8c73-d65a127061ad"
      },
      "outputs": [
        {
          "output_type": "stream",
          "name": "stdout",
          "text": [
            "Mounted at /content/drive\n"
          ]
        }
      ],
      "source": [
        "from google.colab import drive\n",
        "drive.mount('/content/drive')"
      ]
    },
    {
      "cell_type": "code",
      "source": [
        "!ls /content/"
      ],
      "metadata": {
        "colab": {
          "base_uri": "https://localhost:8080/"
        },
        "id": "5j14ipgUzo5c",
        "outputId": "6a524193-9146-41f1-c9b3-4294c595ea95"
      },
      "execution_count": null,
      "outputs": [
        {
          "output_type": "stream",
          "name": "stdout",
          "text": [
            "drive  ECG_DATA  sample_data\n"
          ]
        }
      ]
    },
    {
      "cell_type": "code",
      "source": [
        "!ls /content/ECG_DATA/train"
      ],
      "metadata": {
        "colab": {
          "base_uri": "https://localhost:8080/"
        },
        "id": "Q25dTtg_z1zd",
        "outputId": "c8c5f595-cb56-436d-e90e-380d41d436a4"
      },
      "execution_count": null,
      "outputs": [
        {
          "output_type": "stream",
          "name": "stdout",
          "text": [
            "'ECG Images of Myocardial Infarction Patients (240x12=2880)'\n",
            "'ECG Images of Patient that have abnormal heartbeat (233x12=2796)'\n",
            "'ECG Images of Patient that have History of MI (172x12=2064)'\n",
            "'Normal Person ECG Images (284x12=3408)'\n"
          ]
        }
      ]
    },
    {
      "cell_type": "code",
      "source": [
        "import torch\n",
        "import torch.nn as nn\n",
        "import torch.nn.functional as F\n",
        "\n",
        "# Define the CNN architecture\n",
        "class ECG_Classifier(nn.Module):\n",
        "    def __init__(self, num_classes=4):\n",
        "        super(ECG_Classifier, self).__init__()\n",
        "\n",
        "        # Convolutional Block 1\n",
        "        # Input image size: [BATCH_SIZE, 3, 150, 150]\n",
        "        # (Batch size, Channels, Height, Width)\n",
        "        self.conv1 = nn.Conv2d(in_channels=3, out_channels=16, kernel_size=3, padding=1)\n",
        "        self.bn1 = nn.BatchNorm2d(16)\n",
        "        self.pool1 = nn.MaxPool2d(kernel_size=2, stride=2)\n",
        "        # Output size after this block: [BATCH_SIZE, 16, 75, 75]\n",
        "\n",
        "        # Convolutional Block 2\n",
        "        self.conv2 = nn.Conv2d(in_channels=16, out_channels=32, kernel_size=3, padding=1)\n",
        "        self.bn2 = nn.BatchNorm2d(32)\n",
        "        self.pool2 = nn.MaxPool2d(kernel_size=2, stride=2)\n",
        "        # Output size after this block: [BATCH_SIZE, 32, 37, 37]\n",
        "\n",
        "        # Convolutional Block 3\n",
        "        self.conv3 = nn.Conv2d(in_channels=32, out_channels=64, kernel_size=3, padding=1)\n",
        "        self.bn3 = nn.BatchNorm2d(64)\n",
        "        self.pool3 = nn.MaxPool2d(kernel_size=2, stride=2)\n",
        "        # Output size after this block: [BATCH_SIZE, 64, 18, 18]\n",
        "\n",
        "        # Fully Connected (Dense) Layers\n",
        "        # We need to flatten the output of the last conv layer\n",
        "        self.fc1 = nn.Linear(64 * 18 * 18, 512)\n",
        "        self.dropout = nn.Dropout(0.5)\n",
        "        self.fc2 = nn.Linear(512, num_classes) # num_classes should be 4\n",
        "\n",
        "    def forward(self, x):\n",
        "        # Apply the convolutional blocks\n",
        "        x = self.pool1(F.relu(self.bn1(self.conv1(x))))\n",
        "        x = self.pool2(F.relu(self.bn2(self.conv2(x))))\n",
        "        x = self.pool3(F.relu(self.bn3(self.conv3(x))))\n",
        "\n",
        "        # Flatten the feature maps for the fully connected layers\n",
        "        # The size of the tensor after the last pool layer is (batch_size, 64, 18, 18)\n",
        "        # We need to flatten it to (batch_size, 64 * 18 * 18)\n",
        "        x = x.view(-1, 64 * 18 * 18)\n",
        "\n",
        "        # Apply the fully connected layers\n",
        "        x = F.relu(self.fc1(x))\n",
        "        x = self.dropout(x)\n",
        "        x = self.fc2(x)\n",
        "\n",
        "        return x\n",
        "\n",
        "# Instantiate the model\n",
        "num_classes = 4  # You have four classes in your dataset\n",
        "model = ECG_Classifier(num_classes=num_classes)\n",
        "\n",
        "# Optional: Print the model architecture to see all the layers\n",
        "print(model)\n",
        "\n",
        "# Check if a GPU is available and move the model to it\n",
        "device = torch.device('cuda' if torch.cuda.is_available() else 'cpu')\n",
        "model.to(device)\n",
        "\n",
        "print(f\"\\nModel has been instantiated and moved to {device}.\")"
      ],
      "metadata": {
        "colab": {
          "base_uri": "https://localhost:8080/"
        },
        "id": "nLsn8ZgE0NLT",
        "outputId": "e5d76c27-cac0-419d-dc85-3874b2ad5e76"
      },
      "execution_count": null,
      "outputs": [
        {
          "output_type": "stream",
          "name": "stdout",
          "text": [
            "ECG_Classifier(\n",
            "  (conv1): Conv2d(3, 16, kernel_size=(3, 3), stride=(1, 1), padding=(1, 1))\n",
            "  (bn1): BatchNorm2d(16, eps=1e-05, momentum=0.1, affine=True, track_running_stats=True)\n",
            "  (pool1): MaxPool2d(kernel_size=2, stride=2, padding=0, dilation=1, ceil_mode=False)\n",
            "  (conv2): Conv2d(16, 32, kernel_size=(3, 3), stride=(1, 1), padding=(1, 1))\n",
            "  (bn2): BatchNorm2d(32, eps=1e-05, momentum=0.1, affine=True, track_running_stats=True)\n",
            "  (pool2): MaxPool2d(kernel_size=2, stride=2, padding=0, dilation=1, ceil_mode=False)\n",
            "  (conv3): Conv2d(32, 64, kernel_size=(3, 3), stride=(1, 1), padding=(1, 1))\n",
            "  (bn3): BatchNorm2d(64, eps=1e-05, momentum=0.1, affine=True, track_running_stats=True)\n",
            "  (pool3): MaxPool2d(kernel_size=2, stride=2, padding=0, dilation=1, ceil_mode=False)\n",
            "  (fc1): Linear(in_features=20736, out_features=512, bias=True)\n",
            "  (dropout): Dropout(p=0.5, inplace=False)\n",
            "  (fc2): Linear(in_features=512, out_features=4, bias=True)\n",
            ")\n",
            "\n",
            "Model has been instantiated and moved to cuda.\n"
          ]
        }
      ]
    },
    {
      "cell_type": "code",
      "source": [
        "from google.colab import drive\n",
        "drive.mount('/content/drive')\n"
      ],
      "metadata": {
        "colab": {
          "base_uri": "https://localhost:8080/"
        },
        "id": "qI8PQwVg5ldR",
        "outputId": "67b47df7-12d7-4f3e-c04a-2dfee91ae4a3"
      },
      "execution_count": null,
      "outputs": [
        {
          "output_type": "stream",
          "name": "stdout",
          "text": [
            "Mounted at /content/drive\n"
          ]
        }
      ]
    },
    {
      "cell_type": "code",
      "source": [
        "import zipfile\n",
        "zip_file_path = '/content/drive/MyDrive/archive (1).zip'\n",
        "unzip_path = '/content/'\n",
        "\n",
        "with zipfile.ZipFile(zip_file_path, 'r') as zip_ref:\n",
        "    zip_ref.extractall(unzip_path)\n",
        "\n",
        "print(\"Extraction complete.\")"
      ],
      "metadata": {
        "colab": {
          "base_uri": "https://localhost:8080/"
        },
        "id": "EEL4KJ-Z5w5-",
        "outputId": "2b4ce18e-792c-4d6f-a41b-1ce9c40cca87"
      },
      "execution_count": null,
      "outputs": [
        {
          "output_type": "stream",
          "name": "stdout",
          "text": [
            "Extraction complete.\n"
          ]
        }
      ]
    },
    {
      "cell_type": "code",
      "source": [
        "!ls /content/ECG_DATA/train"
      ],
      "metadata": {
        "colab": {
          "base_uri": "https://localhost:8080/"
        },
        "id": "YTzvvsEu58Sz",
        "outputId": "f40e1af8-b301-482f-c023-2355e07b6741"
      },
      "execution_count": null,
      "outputs": [
        {
          "output_type": "stream",
          "name": "stdout",
          "text": [
            "'ECG Images of Myocardial Infarction Patients (240x12=2880)'\n",
            "'ECG Images of Patient that have abnormal heartbeat (233x12=2796)'\n",
            "'ECG Images of Patient that have History of MI (172x12=2064)'\n",
            "'Normal Person ECG Images (284x12=3408)'\n"
          ]
        }
      ]
    },
    {
      "cell_type": "code",
      "source": [
        "import torch\n",
        "import torch.nn as nn\n",
        "import torch.nn.functional as F\n",
        "import torch.optim as optim\n",
        "from torchvision import datasets, transforms\n",
        "from torch.utils.data import DataLoader\n",
        "\n",
        "# --- 1. Load the Data ---\n",
        "\n",
        "data_root_dir = '/content/ECG_DATA'\n",
        "IMAGE_HEIGHT = 150\n",
        "IMAGE_WIDTH = 150\n",
        "BATCH_SIZE = 32\n",
        "\n",
        "data_transform = transforms.Compose([\n",
        "    transforms.Resize((IMAGE_HEIGHT, IMAGE_WIDTH)),\n",
        "    transforms.ToTensor(),\n",
        "])\n",
        "\n",
        "train_dataset = datasets.ImageFolder(\n",
        "    root=f'{data_root_dir}/train',\n",
        "    transform=data_transform\n",
        ")\n",
        "\n",
        "test_dataset = datasets.ImageFolder(\n",
        "    root=f'{data_root_dir}/test',\n",
        "    transform=data_transform\n",
        ")\n",
        "\n",
        "train_dataloader = DataLoader(\n",
        "    train_dataset,\n",
        "    batch_size=BATCH_SIZE,\n",
        "    shuffle=True\n",
        ")\n",
        "\n",
        "test_dataloader = DataLoader(\n",
        "    test_dataset,\n",
        "    batch_size=BATCH_SIZE,\n",
        "    shuffle=False\n",
        ")\n",
        "\n",
        "print(\"Data loaders created successfully.\")\n",
        "\n",
        "# --- 2. Define the Model, Loss Function, and Optimizer ---\n",
        "\n",
        "class ECG_Classifier(nn.Module):\n",
        "    def __init__(self, num_classes=4):\n",
        "        super(ECG_Classifier, self).__init__()\n",
        "        self.conv1 = nn.Conv2d(in_channels=3, out_channels=16, kernel_size=3, padding=1)\n",
        "        self.bn1 = nn.BatchNorm2d(16)\n",
        "        self.pool1 = nn.MaxPool2d(kernel_size=2, stride=2)\n",
        "        self.conv2 = nn.Conv2d(in_channels=16, out_channels=32, kernel_size=3, padding=1)\n",
        "        self.bn2 = nn.BatchNorm2d(32)\n",
        "        self.pool2 = nn.MaxPool2d(kernel_size=2, stride=2)\n",
        "        self.conv3 = nn.Conv2d(in_channels=32, out_channels=64, kernel_size=3, padding=1)\n",
        "        self.bn3 = nn.BatchNorm2d(64)\n",
        "        self.pool3 = nn.MaxPool2d(kernel_size=2, stride=2)\n",
        "        self.fc1 = nn.Linear(64 * 18 * 18, 512)\n",
        "        self.dropout = nn.Dropout(0.5)\n",
        "        self.fc2 = nn.Linear(512, num_classes)\n",
        "\n",
        "    def forward(self, x):\n",
        "        x = self.pool1(F.relu(self.bn1(self.conv1(x))))\n",
        "        x = self.pool2(F.relu(self.bn2(self.conv2(x))))\n",
        "        x = self.pool3(F.relu(self.bn3(self.conv3(x))))\n",
        "        x = x.view(-1, 64 * 18 * 18)\n",
        "        x = F.relu(self.fc1(x))\n",
        "        x = self.dropout(x)\n",
        "        x = self.fc2(x)\n",
        "        return x\n",
        "\n",
        "device = torch.device('cuda' if torch.cuda.is_available() else 'cpu')\n",
        "model = ECG_Classifier(num_classes=4).to(device)\n",
        "\n",
        "criterion = nn.CrossEntropyLoss()\n",
        "optimizer = optim.Adam(model.parameters(), lr=0.001)\n",
        "\n",
        "# --- 3. The Training Loop ---\n",
        "\n",
        "num_epochs = 10\n",
        "\n",
        "print(\"\\nStarting the training process...\")\n",
        "for epoch in range(num_epochs):\n",
        "    model.train()\n",
        "    running_loss = 0.0\n",
        "    for images, labels in train_dataloader:\n",
        "        images, labels = images.to(device), labels.to(device)\n",
        "\n",
        "        optimizer.zero_grad()\n",
        "\n",
        "        outputs = model(images)\n",
        "        loss = criterion(outputs, labels)\n",
        "\n",
        "        loss.backward()\n",
        "        optimizer.step()\n",
        "\n",
        "        running_loss += loss.item() * images.size(0)\n",
        "\n",
        "    epoch_loss = running_loss / len(train_dataset)\n",
        "    print(f'Epoch [{epoch+1}/{num_epochs}], Loss: {epoch_loss:.4f}')\n",
        "\n",
        "print(\"\\nTraining complete.\")\n",
        "\n",
        "torch.save(model.state_dict(), 'ecg_classifier_model.pth')\n",
        "print(\"Model saved to 'ecg_classifier_model.pth'.\")"
      ],
      "metadata": {
        "colab": {
          "base_uri": "https://localhost:8080/"
        },
        "id": "ksNNWLsH9MFz",
        "outputId": "73940033-4a2a-4909-9ceb-9b6f0bb9af5a"
      },
      "execution_count": null,
      "outputs": [
        {
          "output_type": "stream",
          "name": "stdout",
          "text": [
            "Data loaders created successfully.\n",
            "\n",
            "Starting the training process...\n",
            "Epoch [1/10], Loss: 2.5630\n",
            "Epoch [2/10], Loss: 0.3296\n",
            "Epoch [3/10], Loss: 0.1174\n",
            "Epoch [4/10], Loss: 0.0885\n",
            "Epoch [5/10], Loss: 0.0377\n",
            "Epoch [6/10], Loss: 0.0266\n",
            "Epoch [7/10], Loss: 0.0205\n",
            "Epoch [8/10], Loss: 0.0104\n",
            "Epoch [9/10], Loss: 0.0185\n",
            "Epoch [10/10], Loss: 0.0134\n",
            "\n",
            "Training complete.\n",
            "Model saved to 'ecg_classifier_model.pth'.\n"
          ]
        }
      ]
    },
    {
      "cell_type": "code",
      "source": [
        "import torch\n",
        "import numpy as np\n",
        "import matplotlib.pyplot as plt\n",
        "import seaborn as sns\n",
        "from sklearn.metrics import confusion_matrix, classification_report\n",
        "from torchvision import datasets, transforms\n",
        "from torch.utils.data import DataLoader\n",
        "\n",
        "# --- 1. Load the Data Loaders (re-run this part if your runtime was reset) ---\n",
        "data_root_dir = '/content/ECG_DATA'\n",
        "IMAGE_HEIGHT = 150\n",
        "IMAGE_WIDTH = 150\n",
        "BATCH_SIZE = 32\n",
        "\n",
        "data_transform = transforms.Compose([\n",
        "    transforms.Resize((IMAGE_HEIGHT, IMAGE_WIDTH)),\n",
        "    transforms.ToTensor(),\n",
        "])\n",
        "\n",
        "test_dataset = datasets.ImageFolder(\n",
        "    root=f'{data_root_dir}/test',\n",
        "    transform=data_transform\n",
        ")\n",
        "\n",
        "test_dataloader = DataLoader(\n",
        "    test_dataset,\n",
        "    batch_size=BATCH_SIZE,\n",
        "    shuffle=False\n",
        ")\n",
        "\n",
        "# Get the class names for the labels\n",
        "class_names = test_dataset.classes\n",
        "print(\"Test data loaders created successfully.\")\n",
        "\n",
        "# --- 2. Load the Trained Model ---\n",
        "\n",
        "# We need the model architecture to load the saved state dictionary\n",
        "class ECG_Classifier(nn.Module):\n",
        "    # (Copy the ECG_Classifier class definition from the previous response here)\n",
        "    def __init__(self, num_classes=4):\n",
        "        super(ECG_Classifier, self).__init__()\n",
        "        self.conv1 = nn.Conv2d(in_channels=3, out_channels=16, kernel_size=3, padding=1)\n",
        "        self.bn1 = nn.BatchNorm2d(16)\n",
        "        self.pool1 = nn.MaxPool2d(kernel_size=2, stride=2)\n",
        "        self.conv2 = nn.Conv2d(in_channels=16, out_channels=32, kernel_size=3, padding=1)\n",
        "        self.bn2 = nn.BatchNorm2d(32)\n",
        "        self.pool2 = nn.MaxPool2d(kernel_size=2, stride=2)\n",
        "        self.conv3 = nn.Conv2d(in_channels=32, out_channels=64, kernel_size=3, padding=1)\n",
        "        self.bn3 = nn.BatchNorm2d(64)\n",
        "        self.pool3 = nn.MaxPool2d(kernel_size=2, stride=2)\n",
        "        self.fc1 = nn.Linear(64 * 18 * 18, 512)\n",
        "        self.dropout = nn.Dropout(0.5)\n",
        "        self.fc2 = nn.Linear(512, num_classes)\n",
        "\n",
        "    def forward(self, x):\n",
        "        x = self.pool1(F.relu(self.bn1(self.conv1(x))))\n",
        "        x = self.pool2(F.relu(self.bn2(self.conv2(x))))\n",
        "        x = self.pool3(F.relu(self.bn3(self.conv3(x))))\n",
        "        x = x.view(-1, 64 * 18 * 18)\n",
        "        x = F.relu(self.fc1(x))\n",
        "        x = self.dropout(x)\n",
        "        x = self.fc2(x)\n",
        "        return x\n",
        "\n",
        "# Instantiate the model and load the saved weights\n",
        "device = torch.device('cuda' if torch.cuda.is_available() else 'cpu')\n",
        "model = ECG_Classifier(num_classes=4).to(device)\n",
        "\n",
        "# The model file 'ecg_classifier_model.pth' was saved in the previous step\n",
        "model.load_state_dict(torch.load('ecg_classifier_model.pth'))\n",
        "model.eval()  # Set the model to evaluation mode\n",
        "\n",
        "print(\"Model weights loaded and set to evaluation mode.\")\n",
        "\n",
        "# --- 3. Evaluate the Model on the Test Dataset ---\n",
        "\n",
        "all_labels = []\n",
        "all_preds = []\n",
        "\n",
        "with torch.no_grad():  # We don't need to compute gradients for evaluation\n",
        "    for images, labels in test_dataloader:\n",
        "        images, labels = images.to(device), labels.to(device)\n",
        "        outputs = model(images)\n",
        "        _, predicted = torch.max(outputs.data, 1)\n",
        "\n",
        "        all_labels.extend(labels.cpu().numpy())\n",
        "        all_preds.extend(predicted.cpu().numpy())\n",
        "\n",
        "# --- 4. Print the Evaluation Metrics ---\n",
        "\n",
        "# Calculate and print overall accuracy\n",
        "accuracy = np.sum(np.array(all_preds) == np.array(all_labels)) / len(all_labels)\n",
        "print(f'\\nAccuracy on the test set: {accuracy:.4f}')\n",
        "\n",
        "# Generate and print the classification report\n",
        "print(\"\\nClassification Report:\")\n",
        "print(classification_report(all_labels, all_preds, target_names=class_names))\n",
        "\n",
        "# Generate and plot the confusion matrix\n",
        "cm = confusion_matrix(all_labels, all_preds)\n",
        "plt.figure(figsize=(10, 8))\n",
        "sns.heatmap(cm, annot=True, fmt='d', cmap='Blues', xticklabels=class_names, yticklabels=class_names)\n",
        "plt.xlabel('Predicted')\n",
        "plt.ylabel('Actual')\n",
        "plt.title('Confusion Matrix')\n",
        "plt.show()\n",
        "\n",
        "print(\"Evaluation complete.\")"
      ],
      "metadata": {
        "colab": {
          "base_uri": "https://localhost:8080/",
          "height": 1000
        },
        "id": "OCqhowQRaR1N",
        "outputId": "c9f46a76-38e9-45a0-c8b6-cf7e13a18abe"
      },
      "execution_count": null,
      "outputs": [
        {
          "output_type": "stream",
          "name": "stdout",
          "text": [
            "Test data loaders created successfully.\n",
            "Model weights loaded and set to evaluation mode.\n",
            "\n",
            "Accuracy on the test set: 0.9925\n",
            "\n",
            "Classification Report:\n",
            "                                                                  precision    recall  f1-score   support\n",
            "\n",
            "      ECG Images of Myocardial Infarction Patients (240x12=2880)       1.00      1.00      1.00       239\n",
            "     ECG Images of Patient that have History of MI (172x12=2064)       0.99      1.00      0.99       172\n",
            "ECG Images of Patient that have abnormal heartbeat (233x12=2796)       1.00      0.97      0.98       233\n",
            "                          Normal Person ECG Images (284x12=3408)       0.98      1.00      0.99       284\n",
            "\n",
            "                                                        accuracy                           0.99       928\n",
            "                                                       macro avg       0.99      0.99      0.99       928\n",
            "                                                    weighted avg       0.99      0.99      0.99       928\n",
            "\n"
          ]
        },
        {
          "output_type": "display_data",
          "data": {
            "text/plain": [
              "<Figure size 1000x800 with 2 Axes>"
            ],
            "image/png": "[encoded data removed]"
          },
          "metadata": {}
        },
        {
          "output_type": "stream",
          "name": "stdout",
          "text": [
            "Evaluation complete.\n"
          ]
        }
      ]
    },
    {
      "cell_type": "code",
      "source": [
        "from google.colab import drive\n",
        "drive.mount('/content/drive')"
      ],
      "metadata": {
        "colab": {
          "base_uri": "https://localhost:8080/"
        },
        "id": "XQ0_CP5xcuUG",
        "outputId": "0eef8bac-feef-4bd4-dd95-9861de298864"
      },
      "execution_count": null,
      "outputs": [
        {
          "output_type": "stream",
          "name": "stdout",
          "text": [
            "Drive already mounted at /content/drive; to attempt to forcibly remount, call drive.mount(\"/content/drive\", force_remount=True).\n"
          ]
        }
      ]
    },
    {
      "cell_type": "code",
      "source": [
        "import torch\n",
        "import torch.nn as nn\n",
        "import torch.nn.functional as F\n",
        "from PIL import Image\n",
        "from torchvision import transforms\n",
        "\n",
        "# --- 1. Define the Model and Load its Weights ---\n",
        "\n",
        "# The model architecture needs to be defined again to load the weights\n",
        "class ECG_Classifier(nn.Module):\n",
        "    def __init__(self, num_classes=4):\n",
        "        super(ECG_Classifier, self).__init__()\n",
        "        self.conv1 = nn.Conv2d(in_channels=3, out_channels=16, kernel_size=3, padding=1)\n",
        "        self.bn1 = nn.BatchNorm2d(16)\n",
        "        self.pool1 = nn.MaxPool2d(kernel_size=2, stride=2)\n",
        "        self.conv2 = nn.Conv2d(in_channels=16, out_channels=32, kernel_size=3, padding=1)\n",
        "        self.bn2 = nn.BatchNorm2d(32)\n",
        "        self.pool2 = nn.MaxPool2d(kernel_size=2, stride=2)\n",
        "        self.conv3 = nn.Conv2d(in_channels=32, out_channels=64, kernel_size=3, padding=1)\n",
        "        self.bn3 = nn.BatchNorm2d(64)\n",
        "        self.pool3 = nn.MaxPool2d(kernel_size=2, stride=2)\n",
        "        self.fc1 = nn.Linear(64 * 18 * 18, 512)\n",
        "        self.dropout = nn.Dropout(0.5)\n",
        "        self.fc2 = nn.Linear(512, num_classes)\n",
        "\n",
        "    def forward(self, x):\n",
        "        x = self.pool1(F.relu(self.bn1(self.conv1(x))))\n",
        "        x = self.pool2(F.relu(self.bn2(self.conv2(x))))\n",
        "        x = self.pool3(F.relu(self.bn3(self.conv3(x))))\n",
        "        x = x.view(-1, 64 * 18 * 18)\n",
        "        x = F.relu(self.fc1(x))\n",
        "        x = self.dropout(x)\n",
        "        x = self.fc2(x)\n",
        "        return x\n",
        "\n",
        "# Instantiate the model\n",
        "device = torch.device('cuda' if torch.cuda.is_available() else 'cpu')\n",
        "model = ECG_Classifier(num_classes=4).to(device)\n",
        "\n",
        "# Load the saved model weights\n",
        "model_path = 'ecg_classifier_model.pth'\n",
        "model.load_state_dict(torch.load(model_path, map_location=device))\n",
        "model.eval() # Set the model to evaluation mode\n",
        "\n",
        "print(\"Model loaded and ready for inference.\")\n",
        "\n",
        "# Get the class names\n",
        "class_names = ['ECG Images of Myocardial Infarction Patients (240x12=2880)',\n",
        "               'ECG Images of Patient that have History of MI (172x12=2064)',\n",
        "               'ECG Images of Patient that have abnormal heartbeat (233x12=2796)',\n",
        "               'Normal Person ECG Images (284x12=3408)']\n",
        "\n",
        "# --- 2. Define the Prediction Function ---\n",
        "\n",
        "def predict_single_image(image_path):\n",
        "    \"\"\"\n",
        "    Predicts the class of a single ECG image from its file path.\n",
        "    \"\"\"\n",
        "    inference_transform = transforms.Compose([\n",
        "        transforms.Resize((150, 150)),\n",
        "        transforms.ToTensor(),\n",
        "    ])\n",
        "\n",
        "    try:\n",
        "        image = Image.open(image_path).convert('RGB')\n",
        "        image_tensor = inference_transform(image)\n",
        "        image_tensor = image_tensor.unsqueeze(0).to(device)\n",
        "\n",
        "        with torch.no_grad():\n",
        "            outputs = model(image_tensor)\n",
        "\n",
        "        _, predicted_idx = torch.max(outputs.data, 1)\n",
        "\n",
        "        return class_names[predicted_idx.item()]\n",
        "\n",
        "    except Exception as e:\n",
        "        return f\"Error: {e}\"\n",
        "\n",
        "# --- 3. Example Usage with your specific image ---\n",
        "\n",
        "# Assuming your image is directly in the root of your Google Drive and has a .jpg extension.\n",
        "# If it's in a subfolder or has a different extension, you must change this path.\n",
        "test_image_path = '/content/drive/MyDrive/ECG-example-Normal-ECG-with-sinus-rhythm-5.png'\n",
        "\n",
        "prediction = predict_single_image(test_image_path)\n",
        "print(f\"\\nThe model predicts that the ECG image belongs to the category: {prediction}\")"
      ],
      "metadata": {
        "colab": {
          "base_uri": "https://localhost:8080/"
        },
        "id": "XXAywAs9em5z",
        "outputId": "eff05d2e-b8a2-4732-c01d-a726d845034b"
      },
      "execution_count": null,
      "outputs": [
        {
          "output_type": "stream",
          "name": "stdout",
          "text": [
            "Model loaded and ready for inference.\n",
            "\n",
            "The model predicts that the ECG image belongs to the category: ECG Images of Myocardial Infarction Patients (240x12=2880)\n"
          ]
        }
      ]
    }
  ]
}